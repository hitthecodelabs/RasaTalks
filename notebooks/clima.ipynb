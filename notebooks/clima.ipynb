{
 "cells": [
  {
   "cell_type": "code",
   "execution_count": 19,
   "id": "a212ad10-d68f-408f-9151-e15edaed43e3",
   "metadata": {
    "tags": []
   },
   "outputs": [],
   "source": [
    "import requests\n",
    "from pprint import pprint"
   ]
  },
  {
   "cell_type": "code",
   "execution_count": 59,
   "id": "48d7f2cc-a29e-4001-a422-cb6a4dcf7880",
   "metadata": {
    "tags": []
   },
   "outputs": [
    {
     "data": {
      "text/plain": [
       "<Response [200]>"
      ]
     },
     "execution_count": 59,
     "metadata": {},
     "output_type": "execute_result"
    }
   ],
   "source": [
    "city = 'Loja'\n",
    "\n",
    "APIKEY = \"57ed2d85181443d5aa1222521242102\"\n",
    "APIURL = f'http://api.weatherapi.com/v1/current.json?key={APIKEY}&q={city.capitalize()}&aqi=no'\n",
    "\n",
    "response = requests.get(APIURL)\n",
    "response"
   ]
  },
  {
   "cell_type": "code",
   "execution_count": 61,
   "id": "01f3e366-b8c5-4780-9703-f0e14be2a212",
   "metadata": {
    "tags": []
   },
   "outputs": [
    {
     "data": {
      "text/plain": [
       "{'location': {'name': 'Loja',\n",
       "  'region': 'Loja',\n",
       "  'country': 'Ecuador',\n",
       "  'lat': -4.0,\n",
       "  'lon': -79.22,\n",
       "  'tz_id': 'America/Guayaquil',\n",
       "  'localtime_epoch': 1708555886,\n",
       "  'localtime': '2024-02-21 17:51'},\n",
       " 'current': {'last_updated_epoch': 1708555500,\n",
       "  'last_updated': '2024-02-21 17:45',\n",
       "  'temp_c': 16.5,\n",
       "  'temp_f': 61.7,\n",
       "  'is_day': 1,\n",
       "  'condition': {'text': 'Light rain shower',\n",
       "   'icon': '//cdn.weatherapi.com/weather/64x64/day/353.png',\n",
       "   'code': 1240},\n",
       "  'wind_mph': 6.0,\n",
       "  'wind_kph': 9.7,\n",
       "  'wind_degree': 264,\n",
       "  'wind_dir': 'W',\n",
       "  'pressure_mb': 1014.0,\n",
       "  'pressure_in': 29.94,\n",
       "  'precip_mm': 0.79,\n",
       "  'precip_in': 0.03,\n",
       "  'humidity': 87,\n",
       "  'cloud': 78,\n",
       "  'feelslike_c': 16.5,\n",
       "  'feelslike_f': 61.7,\n",
       "  'vis_km': 10.0,\n",
       "  'vis_miles': 6.0,\n",
       "  'uv': 7.0,\n",
       "  'gust_mph': 8.5,\n",
       "  'gust_kph': 13.6}}"
      ]
     },
     "execution_count": 61,
     "metadata": {},
     "output_type": "execute_result"
    }
   ],
   "source": [
    "response.json()"
   ]
  },
  {
   "cell_type": "code",
   "execution_count": 60,
   "id": "ad679d48-a1bb-4fb5-800b-7213c9e3d6c5",
   "metadata": {
    "tags": []
   },
   "outputs": [
    {
     "name": "stdout",
     "output_type": "stream",
     "text": [
      "Loja Loja Ecuador 2024-02-21 17:51 16.5 Light rain shower\n"
     ]
    }
   ],
   "source": [
    "data = response.json()\n",
    "\n",
    "data_actual = data['current']\n",
    "temperatura = data_actual['temp_c'] ### grandos centigrados\n",
    "\n",
    "location = data['location']\n",
    "city = location['name']\n",
    "region = location['region']\n",
    "country = location['country']\n",
    "datetime_str = location['localtime']\n",
    "clima_actual = data_actual['condition']['text']\n",
    "\n",
    "info = f\"\"\"Ciudad: {city}\n",
    "Provincia: {region}\n",
    "Pais: {country}\n",
    "Hora: {datetime_str}\n",
    "Temperatura Actual: {temperatura}\n",
    "Condición Actual: {clima_actual}\"\"\"\n",
    "# print(city, region, country, datetime_str, temperatura, clima_actual)"
   ]
  },
  {
   "cell_type": "code",
   "execution_count": null,
   "id": "d89faf0d-5097-4bc2-bf92-6b05acf0cef7",
   "metadata": {},
   "outputs": [],
   "source": [
    "https://cdn.weatherapi.com/weather/64x64/day/353.png"
   ]
  },
  {
   "cell_type": "code",
   "execution_count": null,
   "id": "c7de0990-32ab-4061-8181-66240257734e",
   "metadata": {},
   "outputs": [],
   "source": []
  }
 ],
 "metadata": {
  "kernelspec": {
   "display_name": "Python (Local)",
   "language": "python",
   "name": "base"
  },
  "language_info": {
   "codemirror_mode": {
    "name": "ipython",
    "version": 3
   },
   "file_extension": ".py",
   "mimetype": "text/x-python",
   "name": "python",
   "nbconvert_exporter": "python",
   "pygments_lexer": "ipython3",
   "version": "3.10.13"
  }
 },
 "nbformat": 4,
 "nbformat_minor": 5
}
